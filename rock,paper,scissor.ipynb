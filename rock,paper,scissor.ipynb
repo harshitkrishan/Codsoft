{
 "cells": [
  {
   "cell_type": "code",
   "execution_count": 2,
   "id": "0ef83c87-0dc3-4d63-893e-546daf85df0a",
   "metadata": {},
   "outputs": [
    {
     "name": "stdin",
     "output_type": "stream",
     "text": [
      "Enter your choice (rock, paper, or scissors):  paper\n"
     ]
    },
    {
     "name": "stdout",
     "output_type": "stream",
     "text": [
      "\n",
      "You chose: paper\n",
      "Computer chose: scissors\n",
      "\n",
      "Computer wins this round!\n",
      "\n",
      "Score - You: 0, Computer: 1\n",
      "\n"
     ]
    },
    {
     "name": "stdin",
     "output_type": "stream",
     "text": [
      "Do you want to play another round? (yes/no):  yes\n",
      "Enter your choice (rock, paper, or scissors):  rock\n"
     ]
    },
    {
     "name": "stdout",
     "output_type": "stream",
     "text": [
      "\n",
      "You chose: rock\n",
      "Computer chose: rock\n",
      "\n",
      "It's a tie!\n",
      "\n",
      "Score - You: 0, Computer: 1\n",
      "\n"
     ]
    },
    {
     "name": "stdin",
     "output_type": "stream",
     "text": [
      "Do you want to play another round? (yes/no):  scissors\n",
      "Invalid input. Please enter yes or no:  no\n"
     ]
    },
    {
     "name": "stdout",
     "output_type": "stream",
     "text": [
      "\n",
      "Final Score - You: 0, Computer: 1\n",
      "Computer wins the game! Better luck next time!\n"
     ]
    }
   ],
   "source": [
    "import random\n",
    "\n",
    "class RockPaperScissors:\n",
    "    def __init__(self):\n",
    "        self.user_score = 0\n",
    "        self.computer_score = 0\n",
    "\n",
    "    def play_round(self):\n",
    "        user_choice = input(\"Enter your choice (rock, paper, or scissors): \").lower()\n",
    "        while user_choice not in [\"rock\", \"paper\", \"scissors\"]:\n",
    "            user_choice = input(\"Invalid input. Please enter rock, paper, or scissors: \").lower()\n",
    "\n",
    "        computer_choice = random.choice([\"rock\", \"paper\", \"scissors\"])\n",
    "\n",
    "        print(f\"\\nYou chose: {user_choice}\")\n",
    "        print(f\"Computer chose: {computer_choice}\\n\")\n",
    "\n",
    "        if user_choice == computer_choice:\n",
    "            print(f\"It's a tie!\")\n",
    "        elif (user_choice == \"rock\" and computer_choice == \"scissors\") or \\\n",
    "             (user_choice == \"scissors\" and computer_choice == \"paper\") or \\\n",
    "             (user_choice == \"paper\" and computer_choice == \"rock\"):\n",
    "            print(f\"You win this round!\")\n",
    "            self.user_score += 1\n",
    "        else:\n",
    "            print(f\"Computer wins this round!\")\n",
    "            self.computer_score += 1\n",
    "\n",
    "        print(f\"\\nScore - You: {self.user_score}, Computer: {self.computer_score}\\n\")\n",
    "\n",
    "    def play_game(self):\n",
    "        while True:\n",
    "            self.play_round()\n",
    "            play_again = input(\"Do you want to play another round? (yes/no): \").lower()\n",
    "            while play_again not in [\"yes\", \"no\"]:\n",
    "                play_again = input(\"Invalid input. Please enter yes or no: \").lower()\n",
    "            if play_again == \"no\":\n",
    "                break\n",
    "\n",
    "        print(f\"\\nFinal Score - You: {self.user_score}, Computer: {self.computer_score}\")\n",
    "        if self.user_score > self.computer_score:\n",
    "            print(f\"You win the game! Congratulations!\")\n",
    "        elif self.user_score < self.computer_score:\n",
    "            print(f\"Computer wins the game! Better luck next time!\")\n",
    "        else:\n",
    "            print(f\"It's a tie game!\")\n",
    "\n",
    "if __name__ == \"__main__\":\n",
    "    game = RockPaperScissors()\n",
    "    game.play_game()"
   ]
  },
  {
   "cell_type": "code",
   "execution_count": null,
   "id": "8a5362f1-2561-4053-bb23-c7de2206a626",
   "metadata": {},
   "outputs": [],
   "source": []
  }
 ],
 "metadata": {
  "kernelspec": {
   "display_name": "Python 3 (ipykernel)",
   "language": "python",
   "name": "python3"
  },
  "language_info": {
   "codemirror_mode": {
    "name": "ipython",
    "version": 3
   },
   "file_extension": ".py",
   "mimetype": "text/x-python",
   "name": "python",
   "nbconvert_exporter": "python",
   "pygments_lexer": "ipython3",
   "version": "3.12.5"
  }
 },
 "nbformat": 4,
 "nbformat_minor": 5
}
